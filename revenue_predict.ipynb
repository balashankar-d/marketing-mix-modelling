{
  "nbformat": 4,
  "nbformat_minor": 0,
  "metadata": {
    "colab": {
      "provenance": [],
      "gpuType": "T4",
      "authorship_tag": "ABX9TyManlx/RHTn6l/WncmAdByb",
      "include_colab_link": true
    },
    "kernelspec": {
      "name": "python3",
      "display_name": "Python 3"
    },
    "language_info": {
      "name": "python"
    },
    "accelerator": "GPU"
  },
  "cells": [
    {
      "cell_type": "markdown",
      "metadata": {
        "id": "view-in-github",
        "colab_type": "text"
      },
      "source": [
        "<a href=\"https://colab.research.google.com/github/balashankar-d/marketing-mix-modelling/blob/main/revenue_predict.ipynb\" target=\"_parent\"><img src=\"https://colab.research.google.com/assets/colab-badge.svg\" alt=\"Open In Colab\"/></a>"
      ]
    },
    {
      "cell_type": "code",
      "execution_count": null,
      "metadata": {
        "colab": {
          "base_uri": "https://localhost:8080/"
        },
        "id": "ASuPsByillaC",
        "outputId": "dc424999-877d-4a5b-c373-bf76be697de6"
      },
      "outputs": [
        {
          "output_type": "stream",
          "name": "stdout",
          "text": [
            "Collecting optuna\n",
            "  Downloading optuna-4.5.0-py3-none-any.whl.metadata (17 kB)\n",
            "Requirement already satisfied: alembic>=1.5.0 in /usr/local/lib/python3.12/dist-packages (from optuna) (1.16.5)\n",
            "Collecting colorlog (from optuna)\n",
            "  Downloading colorlog-6.9.0-py3-none-any.whl.metadata (10 kB)\n",
            "Requirement already satisfied: numpy in /usr/local/lib/python3.12/dist-packages (from optuna) (2.0.2)\n",
            "Requirement already satisfied: packaging>=20.0 in /usr/local/lib/python3.12/dist-packages (from optuna) (25.0)\n",
            "Requirement already satisfied: sqlalchemy>=1.4.2 in /usr/local/lib/python3.12/dist-packages (from optuna) (2.0.43)\n",
            "Requirement already satisfied: tqdm in /usr/local/lib/python3.12/dist-packages (from optuna) (4.67.1)\n",
            "Requirement already satisfied: PyYAML in /usr/local/lib/python3.12/dist-packages (from optuna) (6.0.2)\n",
            "Requirement already satisfied: Mako in /usr/local/lib/python3.12/dist-packages (from alembic>=1.5.0->optuna) (1.3.10)\n",
            "Requirement already satisfied: typing-extensions>=4.12 in /usr/local/lib/python3.12/dist-packages (from alembic>=1.5.0->optuna) (4.15.0)\n",
            "Requirement already satisfied: greenlet>=1 in /usr/local/lib/python3.12/dist-packages (from sqlalchemy>=1.4.2->optuna) (3.2.4)\n",
            "Requirement already satisfied: MarkupSafe>=0.9.2 in /usr/local/lib/python3.12/dist-packages (from Mako->alembic>=1.5.0->optuna) (3.0.2)\n",
            "Downloading optuna-4.5.0-py3-none-any.whl (400 kB)\n",
            "\u001b[2K   \u001b[90m━━━━━━━━━━━━━━━━━━━━━━━━━━━━━━━━━━━━━━━━\u001b[0m \u001b[32m400.9/400.9 kB\u001b[0m \u001b[31m8.1 MB/s\u001b[0m eta \u001b[36m0:00:00\u001b[0m\n",
            "\u001b[?25hDownloading colorlog-6.9.0-py3-none-any.whl (11 kB)\n",
            "Installing collected packages: colorlog, optuna\n",
            "Successfully installed colorlog-6.9.0 optuna-4.5.0\n"
          ]
        }
      ],
      "source": [
        "!pip install optuna"
      ]
    },
    {
      "cell_type": "code",
      "source": [
        "import pandas as pd\n",
        "import numpy as np\n",
        "import xgboost as xgb\n",
        "from sklearn.model_selection import TimeSeriesSplit\n",
        "from sklearn.metrics import r2_score, mean_absolute_error, mean_squared_error, mean_absolute_percentage_error\n",
        "import plotly.graph_objects as go\n",
        "import optuna\n",
        "import warnings\n",
        "\n",
        "# Suppress warnings for a cleaner output\n",
        "warnings.filterwarnings('ignore')\n",
        "optuna.logging.set_verbosity(optuna.logging.WARNING)"
      ],
      "metadata": {
        "id": "Od8X6pu6mwF_"
      },
      "execution_count": null,
      "outputs": []
    },
    {
      "cell_type": "code",
      "source": [
        "file_path = 'data.csv'\n",
        "\n",
        "try:\n",
        "    df = pd.read_csv(file_path)\n",
        "except FileNotFoundError:\n",
        "    print(f\"Error: The file '{file_path}' was not found. Using a dummy dataframe for demonstration.\")\n",
        "\n",
        "\n",
        "# Data Preparation\n",
        "df.columns = df.columns.str.lower().str.replace(' ', '_')\n",
        "df['week'] = pd.to_datetime(df['week'])\n",
        "df = df.set_index('week').sort_index()\n",
        "\n",
        "print(\"Data loaded successfully. Shape:\", df.shape)"
      ],
      "metadata": {
        "colab": {
          "base_uri": "https://localhost:8080/"
        },
        "id": "X2lKN743m1MQ",
        "outputId": "d58d0941-a7b4-482e-82a2-925c3c77bed0"
      },
      "execution_count": null,
      "outputs": [
        {
          "output_type": "stream",
          "name": "stdout",
          "text": [
            "Data loaded successfully. Shape: (104, 11)\n"
          ]
        }
      ]
    },
    {
      "cell_type": "code",
      "source": [
        "def geometric_adstock(series, decay_rate):\n",
        "    adstocked_series = np.zeros_like(series, dtype=float)\n",
        "    adstocked_series[0] = series.iloc[0]\n",
        "    for i in range(1, len(series)):\n",
        "        adstocked_series[i] = series.iloc[i] + decay_rate * adstocked_series[i-1]\n",
        "    return adstocked_series\n",
        "\n",
        "def create_features(df_in, decay_rate):\n",
        "    \"\"\"Create features with a specific decay rate.\"\"\"\n",
        "    df_feat = df_in.copy()\n",
        "    media_channels = ['facebook_spend', 'google_spend', 'tiktok_spend', 'instagram_spend', 'snapchat_spend']\n",
        "\n",
        "    # a. Adstock & Saturation with the given decay rate\n",
        "    for channel in media_channels:\n",
        "        df_feat[f'{channel}_adstock'] = geometric_adstock(df_feat[channel], decay_rate)\n",
        "        df_feat[f'{channel}_saturation'] = np.log1p(df_feat[f'{channel}_adstock'])\n",
        "\n",
        "    # b. IMPROVED Temporal Features (Cyclical)\n",
        "    df_feat['week_of_year'] = df_feat.index.isocalendar().week.astype(float)\n",
        "    df_feat['week_sin'] = np.sin(2 * np.pi * df_feat['week_of_year'] / 52)\n",
        "    df_feat['week_cos'] = np.cos(2 * np.pi * df_feat['week_of_year'] / 52)\n",
        "    df_feat['month'] = df_feat.index.month\n",
        "    df_feat['time_index'] = np.arange(len(df_feat))\n",
        "\n",
        "    # c. NEW Interaction Feature\n",
        "    df_feat['promo_facebook_interaction'] = df_feat['promotions'] * df_feat['facebook_spend_saturation']\n",
        "\n",
        "    # d. Lag Features\n",
        "    lag_vars = media_channels + ['emails_send', 'sms_send']\n",
        "    for var in lag_vars:\n",
        "        for i in range(1, 4):\n",
        "            df_feat[f'{var}_lag{i}'] = df_feat[var].shift(i)\n",
        "\n",
        "    return df_feat.dropna()\n"
      ],
      "metadata": {
        "id": "o6nDIjbLm52F"
      },
      "execution_count": null,
      "outputs": []
    },
    {
      "cell_type": "code",
      "source": [
        "decay_rates_to_try = [0.1, 0.3, 0.5, 0.7, 0.9]\n",
        "best_r2 = -np.inf\n",
        "best_decay_rate = None\n",
        "best_model = None\n",
        "best_test_data = None\n",
        "\n",
        "print(\"\\nStarting optimization to find the best adstock decay rate...\")\n",
        "\n",
        "for decay in decay_rates_to_try:\n",
        "    print(f\"--- Testing Decay Rate: {decay} ---\")\n",
        "\n",
        "    df_featured = create_features(df, decay_rate=decay)\n",
        "\n",
        "    test_size = int(len(df_featured) * 0.2)\n",
        "    train_df = df_featured.iloc[:-test_size]\n",
        "    test_df = df_featured.iloc[-test_size:]\n",
        "\n",
        "    # STAGE 1: Model the Mediator\n",
        "    stage1_predictors = [\n",
        "        'facebook_spend_saturation', 'tiktok_spend_saturation', 'snapchat_spend_saturation',\n",
        "        'time_index', 'week_sin', 'week_cos', 'month'\n",
        "    ]\n",
        "    target_stage1 = 'google_spend_saturation'\n",
        "\n",
        "    X_train_s1 = train_df[stage1_predictors]\n",
        "    y_train_s1 = train_df[target_stage1]\n",
        "\n",
        "    model_s1 = xgb.XGBRegressor(random_state=42, n_estimators=100, objective='reg:squarederror')\n",
        "    model_s1.fit(X_train_s1, y_train_s1)\n",
        "\n",
        "    df_featured['google_spend_predicted'] = model_s1.predict(df_featured[stage1_predictors])\n",
        "    df_featured['google_spend_residuals'] = df_featured[target_stage1] - df_featured['google_spend_predicted']\n",
        "\n",
        "    # STAGE 2: Model Revenue\n",
        "    stage2_predictors = [\n",
        "        'facebook_spend_saturation', 'tiktok_spend_saturation', 'snapchat_spend_saturation',\n",
        "        'instagram_spend_saturation', 'emails_send', 'sms_send',\n",
        "        'google_spend_predicted', 'google_spend_residuals',\n",
        "        'average_price', 'promotions', 'social_followers',\n",
        "        'time_index', 'week_sin', 'week_cos', 'month',\n",
        "        'promo_facebook_interaction'\n",
        "    ]\n",
        "    lag_cols = [col for col in df_featured.columns if '_lag' in col]\n",
        "    stage2_predictors.extend(lag_cols)\n",
        "    target_stage2 = 'revenue'\n",
        "\n",
        "    train_df_s2 = df_featured.iloc[:-test_size]\n",
        "    test_df_s2 = df_featured.iloc[-test_size:]\n",
        "\n",
        "    X_train = train_df_s2[stage2_predictors]\n",
        "    y_train = train_df_s2[target_stage2]\n",
        "    X_test = test_df_s2[stage2_predictors]\n",
        "    y_test = test_df_s2[target_stage2]\n",
        "\n",
        "    # ADVANCED Hyperparameter Tuning with Optuna\n",
        "    def objective(trial):\n",
        "        params = {\n",
        "            'objective': 'reg:squarederror',\n",
        "            'eval_metric': 'rmse', # Specify metric for early stopping\n",
        "            'n_estimators': trial.suggest_int('n_estimators', 100, 1000, step=100),\n",
        "            'learning_rate': trial.suggest_float('learning_rate', 0.01, 0.3),\n",
        "            'max_depth': trial.suggest_int('max_depth', 3, 8),\n",
        "            'subsample': trial.suggest_float('subsample', 0.6, 1.0),\n",
        "            'colsample_bytree': trial.suggest_float('colsample_bytree', 0.6, 1.0),\n",
        "            'gamma': trial.suggest_float('gamma', 0, 5),\n",
        "            'lambda': trial.suggest_float('lambda', 0.01, 10),\n",
        "            'alpha': trial.suggest_float('alpha', 0.01, 10),\n",
        "            'random_state': 42\n",
        "        }\n",
        "\n",
        "        # <<< FIX IS HERE >>>\n",
        "        # Add early_stopping_rounds to the model's parameters at initialization\n",
        "        model = xgb.XGBRegressor(**params, early_stopping_rounds=30)\n",
        "\n",
        "        # The .fit() method now only needs the data and the evaluation set\n",
        "        model.fit(X_train, y_train, eval_set=[(X_test, y_test)], verbose=False)\n",
        "\n",
        "        preds = model.predict(X_test)\n",
        "        r2 = r2_score(y_test, preds)\n",
        "        return r2\n",
        "\n",
        "    study = optuna.create_study(direction='maximize')\n",
        "    study.optimize(objective, n_trials=50)\n",
        "\n",
        "    current_r2 = study.best_value\n",
        "    print(f\"Decay Rate {decay} -> Test R²: {current_r2:.4f}\")\n",
        "    if current_r2 > best_r2:\n",
        "        best_r2 = current_r2\n",
        "        best_decay_rate = decay\n",
        "        best_model = xgb.XGBRegressor(random_state=42, **study.best_params, early_stopping_rounds=30)\n",
        "        best_model.fit(X_train, y_train, eval_set=[(X_test, y_test)], verbose=False)\n",
        "        best_test_data = (X_test, y_test)\n"
      ],
      "metadata": {
        "colab": {
          "base_uri": "https://localhost:8080/"
        },
        "id": "AYq-yfgtm-m4",
        "outputId": "e9abcdf4-64e6-4a75-e68e-daabaf60a311"
      },
      "execution_count": null,
      "outputs": [
        {
          "output_type": "stream",
          "name": "stdout",
          "text": [
            "\n",
            "Starting optimization to find the best adstock decay rate...\n",
            "--- Testing Decay Rate: 0.1 ---\n",
            "Decay Rate 0.1 -> Test R²: 0.9221\n",
            "--- Testing Decay Rate: 0.3 ---\n",
            "Decay Rate 0.3 -> Test R²: 0.9415\n",
            "--- Testing Decay Rate: 0.5 ---\n",
            "Decay Rate 0.5 -> Test R²: 0.7103\n",
            "--- Testing Decay Rate: 0.7 ---\n",
            "Decay Rate 0.7 -> Test R²: 0.3013\n",
            "--- Testing Decay Rate: 0.9 ---\n",
            "Decay Rate 0.9 -> Test R²: 0.5521\n"
          ]
        }
      ]
    },
    {
      "cell_type": "code",
      "source": [
        "print(f\"\\n--- BEST MODEL PERFORMANCE (with Decay Rate = {best_decay_rate}) ---\")\n",
        "\n",
        "X_test_final, y_test_final = best_test_data\n",
        "y_pred = best_model.predict(X_test_final)\n",
        "\n",
        "r2 = r2_score(y_test_final, y_pred)\n",
        "mae = mean_absolute_error(y_test_final, y_pred)\n",
        "rmse = np.sqrt(mean_squared_error(y_test_final, y_pred))\n",
        "mape = mean_absolute_percentage_error(y_test_final, y_pred)\n",
        "\n",
        "print(f\"R-squared (R²): {r2:.4f}\")\n",
        "print(f\"Mean Absolute Error (MAE): {mae:,.2f}\")\n",
        "print(f\"Root Mean Squared Error (RMSE): {rmse:,.2f}\")\n",
        "print(f\"Mean Absolute Percentage Error (MAPE): {mape:.2%}\")\n",
        "\n",
        "results_df = pd.DataFrame({'Actual': y_test_final, 'Predicted': y_pred}, index=y_test_final.index)\n",
        "\n",
        "fig = go.Figure()\n",
        "fig.add_trace(go.Scatter(x=results_df.index, y=results_df['Actual'], mode='lines', name='Actual Revenue', line=dict(color='royalblue', width=2)))\n",
        "fig.add_trace(go.Scatter(x=results_df.index, y=results_df['Predicted'], mode='lines', name='Predicted Revenue', line=dict(color='crimson', width=2, dash='dot')))\n",
        "fig.update_layout(\n",
        "    title='Model Performance: Actual vs. Predicted Revenue on Test Set',\n",
        "    xaxis_title='Week', yaxis_title='Weekly Revenue',\n",
        "    legend_title='Legend', template='plotly_white'\n",
        ")\n",
        "fig.show()"
      ],
      "metadata": {
        "colab": {
          "base_uri": "https://localhost:8080/",
          "height": 646
        },
        "id": "9FUM9GzonKcy",
        "outputId": "307ae97d-33dd-4b43-ae42-e80531839796"
      },
      "execution_count": null,
      "outputs": [
        {
          "output_type": "stream",
          "name": "stdout",
          "text": [
            "\n",
            "--- BEST MODEL PERFORMANCE (with Decay Rate = 0.3) ---\n",
            "R-squared (R²): 0.9415\n",
            "Mean Absolute Error (MAE): 11,291.41\n",
            "Root Mean Squared Error (RMSE): 13,586.13\n",
            "Mean Absolute Percentage Error (MAPE): 90765.87%\n"
          ]
        },
        {
          "output_type": "display_data",
          "data": {
            "text/html": [
              "<html>\n",
              "<head><meta charset=\"utf-8\" /></head>\n",
              "<body>\n",
              "    <div>            <script src=\"https://cdnjs.cloudflare.com/ajax/libs/mathjax/2.7.5/MathJax.js?config=TeX-AMS-MML_SVG\"></script><script type=\"text/javascript\">if (window.MathJax && window.MathJax.Hub && window.MathJax.Hub.Config) {window.MathJax.Hub.Config({SVG: {font: \"STIX-Web\"}});}</script>                <script type=\"text/javascript\">window.PlotlyConfig = {MathJaxConfig: 'local'};</script>\n",
              "        <script charset=\"utf-8\" src=\"https://cdn.plot.ly/plotly-2.35.2.min.js\"></script>                <div id=\"b86b5603-43c2-43ec-bf4e-2bb59f1cc399\" class=\"plotly-graph-div\" style=\"height:525px; width:100%;\"></div>            <script type=\"text/javascript\">                                    window.PLOTLYENV=window.PLOTLYENV || {};                                    if (document.getElementById(\"b86b5603-43c2-43ec-bf4e-2bb59f1cc399\")) {                    Plotly.newPlot(                        \"b86b5603-43c2-43ec-bf4e-2bb59f1cc399\",                        [{\"line\":{\"color\":\"royalblue\",\"width\":2},\"mode\":\"lines\",\"name\":\"Actual Revenue\",\"x\":[\"2025-04-27T00:00:00\",\"2025-05-04T00:00:00\",\"2025-05-11T00:00:00\",\"2025-05-18T00:00:00\",\"2025-05-25T00:00:00\",\"2025-06-01T00:00:00\",\"2025-06-08T00:00:00\",\"2025-06-15T00:00:00\",\"2025-06-22T00:00:00\",\"2025-06-29T00:00:00\",\"2025-07-06T00:00:00\",\"2025-07-13T00:00:00\",\"2025-07-20T00:00:00\",\"2025-07-27T00:00:00\",\"2025-08-03T00:00:00\",\"2025-08-10T00:00:00\",\"2025-08-17T00:00:00\",\"2025-08-24T00:00:00\",\"2025-08-31T00:00:00\",\"2025-09-07T00:00:00\"],\"y\":[274.38,442.35,97051.69,45820.0,1.0,13215.02,29931.84,52896.49,887.39,1348.38,1172.46,744.42,891.25,1488.14,1177.78,950.45,170470.1,193527.33,65119.2,864.1],\"type\":\"scatter\"},{\"line\":{\"color\":\"crimson\",\"dash\":\"dot\",\"width\":2},\"mode\":\"lines\",\"name\":\"Predicted Revenue\",\"x\":[\"2025-04-27T00:00:00\",\"2025-05-04T00:00:00\",\"2025-05-11T00:00:00\",\"2025-05-18T00:00:00\",\"2025-05-25T00:00:00\",\"2025-06-01T00:00:00\",\"2025-06-08T00:00:00\",\"2025-06-15T00:00:00\",\"2025-06-22T00:00:00\",\"2025-06-29T00:00:00\",\"2025-07-06T00:00:00\",\"2025-07-13T00:00:00\",\"2025-07-20T00:00:00\",\"2025-07-27T00:00:00\",\"2025-08-03T00:00:00\",\"2025-08-10T00:00:00\",\"2025-08-17T00:00:00\",\"2025-08-24T00:00:00\",\"2025-08-31T00:00:00\",\"2025-09-07T00:00:00\"],\"y\":[6310.297,4064.6338,85967.37,43877.535,18032.465,16127.966,54542.297,40994.617,6926.169,6175.3076,23437.457,6154.568,9977.865,12252.838,12951.103,15620.658,185621.5,187379.12,34208.7,9504.717],\"type\":\"scatter\"}],                        {\"template\":{\"data\":{\"barpolar\":[{\"marker\":{\"line\":{\"color\":\"white\",\"width\":0.5},\"pattern\":{\"fillmode\":\"overlay\",\"size\":10,\"solidity\":0.2}},\"type\":\"barpolar\"}],\"bar\":[{\"error_x\":{\"color\":\"#2a3f5f\"},\"error_y\":{\"color\":\"#2a3f5f\"},\"marker\":{\"line\":{\"color\":\"white\",\"width\":0.5},\"pattern\":{\"fillmode\":\"overlay\",\"size\":10,\"solidity\":0.2}},\"type\":\"bar\"}],\"carpet\":[{\"aaxis\":{\"endlinecolor\":\"#2a3f5f\",\"gridcolor\":\"#C8D4E3\",\"linecolor\":\"#C8D4E3\",\"minorgridcolor\":\"#C8D4E3\",\"startlinecolor\":\"#2a3f5f\"},\"baxis\":{\"endlinecolor\":\"#2a3f5f\",\"gridcolor\":\"#C8D4E3\",\"linecolor\":\"#C8D4E3\",\"minorgridcolor\":\"#C8D4E3\",\"startlinecolor\":\"#2a3f5f\"},\"type\":\"carpet\"}],\"choropleth\":[{\"colorbar\":{\"outlinewidth\":0,\"ticks\":\"\"},\"type\":\"choropleth\"}],\"contourcarpet\":[{\"colorbar\":{\"outlinewidth\":0,\"ticks\":\"\"},\"type\":\"contourcarpet\"}],\"contour\":[{\"colorbar\":{\"outlinewidth\":0,\"ticks\":\"\"},\"colorscale\":[[0.0,\"#0d0887\"],[0.1111111111111111,\"#46039f\"],[0.2222222222222222,\"#7201a8\"],[0.3333333333333333,\"#9c179e\"],[0.4444444444444444,\"#bd3786\"],[0.5555555555555556,\"#d8576b\"],[0.6666666666666666,\"#ed7953\"],[0.7777777777777778,\"#fb9f3a\"],[0.8888888888888888,\"#fdca26\"],[1.0,\"#f0f921\"]],\"type\":\"contour\"}],\"heatmapgl\":[{\"colorbar\":{\"outlinewidth\":0,\"ticks\":\"\"},\"colorscale\":[[0.0,\"#0d0887\"],[0.1111111111111111,\"#46039f\"],[0.2222222222222222,\"#7201a8\"],[0.3333333333333333,\"#9c179e\"],[0.4444444444444444,\"#bd3786\"],[0.5555555555555556,\"#d8576b\"],[0.6666666666666666,\"#ed7953\"],[0.7777777777777778,\"#fb9f3a\"],[0.8888888888888888,\"#fdca26\"],[1.0,\"#f0f921\"]],\"type\":\"heatmapgl\"}],\"heatmap\":[{\"colorbar\":{\"outlinewidth\":0,\"ticks\":\"\"},\"colorscale\":[[0.0,\"#0d0887\"],[0.1111111111111111,\"#46039f\"],[0.2222222222222222,\"#7201a8\"],[0.3333333333333333,\"#9c179e\"],[0.4444444444444444,\"#bd3786\"],[0.5555555555555556,\"#d8576b\"],[0.6666666666666666,\"#ed7953\"],[0.7777777777777778,\"#fb9f3a\"],[0.8888888888888888,\"#fdca26\"],[1.0,\"#f0f921\"]],\"type\":\"heatmap\"}],\"histogram2dcontour\":[{\"colorbar\":{\"outlinewidth\":0,\"ticks\":\"\"},\"colorscale\":[[0.0,\"#0d0887\"],[0.1111111111111111,\"#46039f\"],[0.2222222222222222,\"#7201a8\"],[0.3333333333333333,\"#9c179e\"],[0.4444444444444444,\"#bd3786\"],[0.5555555555555556,\"#d8576b\"],[0.6666666666666666,\"#ed7953\"],[0.7777777777777778,\"#fb9f3a\"],[0.8888888888888888,\"#fdca26\"],[1.0,\"#f0f921\"]],\"type\":\"histogram2dcontour\"}],\"histogram2d\":[{\"colorbar\":{\"outlinewidth\":0,\"ticks\":\"\"},\"colorscale\":[[0.0,\"#0d0887\"],[0.1111111111111111,\"#46039f\"],[0.2222222222222222,\"#7201a8\"],[0.3333333333333333,\"#9c179e\"],[0.4444444444444444,\"#bd3786\"],[0.5555555555555556,\"#d8576b\"],[0.6666666666666666,\"#ed7953\"],[0.7777777777777778,\"#fb9f3a\"],[0.8888888888888888,\"#fdca26\"],[1.0,\"#f0f921\"]],\"type\":\"histogram2d\"}],\"histogram\":[{\"marker\":{\"pattern\":{\"fillmode\":\"overlay\",\"size\":10,\"solidity\":0.2}},\"type\":\"histogram\"}],\"mesh3d\":[{\"colorbar\":{\"outlinewidth\":0,\"ticks\":\"\"},\"type\":\"mesh3d\"}],\"parcoords\":[{\"line\":{\"colorbar\":{\"outlinewidth\":0,\"ticks\":\"\"}},\"type\":\"parcoords\"}],\"pie\":[{\"automargin\":true,\"type\":\"pie\"}],\"scatter3d\":[{\"line\":{\"colorbar\":{\"outlinewidth\":0,\"ticks\":\"\"}},\"marker\":{\"colorbar\":{\"outlinewidth\":0,\"ticks\":\"\"}},\"type\":\"scatter3d\"}],\"scattercarpet\":[{\"marker\":{\"colorbar\":{\"outlinewidth\":0,\"ticks\":\"\"}},\"type\":\"scattercarpet\"}],\"scattergeo\":[{\"marker\":{\"colorbar\":{\"outlinewidth\":0,\"ticks\":\"\"}},\"type\":\"scattergeo\"}],\"scattergl\":[{\"marker\":{\"colorbar\":{\"outlinewidth\":0,\"ticks\":\"\"}},\"type\":\"scattergl\"}],\"scattermapbox\":[{\"marker\":{\"colorbar\":{\"outlinewidth\":0,\"ticks\":\"\"}},\"type\":\"scattermapbox\"}],\"scatterpolargl\":[{\"marker\":{\"colorbar\":{\"outlinewidth\":0,\"ticks\":\"\"}},\"type\":\"scatterpolargl\"}],\"scatterpolar\":[{\"marker\":{\"colorbar\":{\"outlinewidth\":0,\"ticks\":\"\"}},\"type\":\"scatterpolar\"}],\"scatter\":[{\"fillpattern\":{\"fillmode\":\"overlay\",\"size\":10,\"solidity\":0.2},\"type\":\"scatter\"}],\"scatterternary\":[{\"marker\":{\"colorbar\":{\"outlinewidth\":0,\"ticks\":\"\"}},\"type\":\"scatterternary\"}],\"surface\":[{\"colorbar\":{\"outlinewidth\":0,\"ticks\":\"\"},\"colorscale\":[[0.0,\"#0d0887\"],[0.1111111111111111,\"#46039f\"],[0.2222222222222222,\"#7201a8\"],[0.3333333333333333,\"#9c179e\"],[0.4444444444444444,\"#bd3786\"],[0.5555555555555556,\"#d8576b\"],[0.6666666666666666,\"#ed7953\"],[0.7777777777777778,\"#fb9f3a\"],[0.8888888888888888,\"#fdca26\"],[1.0,\"#f0f921\"]],\"type\":\"surface\"}],\"table\":[{\"cells\":{\"fill\":{\"color\":\"#EBF0F8\"},\"line\":{\"color\":\"white\"}},\"header\":{\"fill\":{\"color\":\"#C8D4E3\"},\"line\":{\"color\":\"white\"}},\"type\":\"table\"}]},\"layout\":{\"annotationdefaults\":{\"arrowcolor\":\"#2a3f5f\",\"arrowhead\":0,\"arrowwidth\":1},\"autotypenumbers\":\"strict\",\"coloraxis\":{\"colorbar\":{\"outlinewidth\":0,\"ticks\":\"\"}},\"colorscale\":{\"diverging\":[[0,\"#8e0152\"],[0.1,\"#c51b7d\"],[0.2,\"#de77ae\"],[0.3,\"#f1b6da\"],[0.4,\"#fde0ef\"],[0.5,\"#f7f7f7\"],[0.6,\"#e6f5d0\"],[0.7,\"#b8e186\"],[0.8,\"#7fbc41\"],[0.9,\"#4d9221\"],[1,\"#276419\"]],\"sequential\":[[0.0,\"#0d0887\"],[0.1111111111111111,\"#46039f\"],[0.2222222222222222,\"#7201a8\"],[0.3333333333333333,\"#9c179e\"],[0.4444444444444444,\"#bd3786\"],[0.5555555555555556,\"#d8576b\"],[0.6666666666666666,\"#ed7953\"],[0.7777777777777778,\"#fb9f3a\"],[0.8888888888888888,\"#fdca26\"],[1.0,\"#f0f921\"]],\"sequentialminus\":[[0.0,\"#0d0887\"],[0.1111111111111111,\"#46039f\"],[0.2222222222222222,\"#7201a8\"],[0.3333333333333333,\"#9c179e\"],[0.4444444444444444,\"#bd3786\"],[0.5555555555555556,\"#d8576b\"],[0.6666666666666666,\"#ed7953\"],[0.7777777777777778,\"#fb9f3a\"],[0.8888888888888888,\"#fdca26\"],[1.0,\"#f0f921\"]]},\"colorway\":[\"#636efa\",\"#EF553B\",\"#00cc96\",\"#ab63fa\",\"#FFA15A\",\"#19d3f3\",\"#FF6692\",\"#B6E880\",\"#FF97FF\",\"#FECB52\"],\"font\":{\"color\":\"#2a3f5f\"},\"geo\":{\"bgcolor\":\"white\",\"lakecolor\":\"white\",\"landcolor\":\"white\",\"showlakes\":true,\"showland\":true,\"subunitcolor\":\"#C8D4E3\"},\"hoverlabel\":{\"align\":\"left\"},\"hovermode\":\"closest\",\"mapbox\":{\"style\":\"light\"},\"paper_bgcolor\":\"white\",\"plot_bgcolor\":\"white\",\"polar\":{\"angularaxis\":{\"gridcolor\":\"#EBF0F8\",\"linecolor\":\"#EBF0F8\",\"ticks\":\"\"},\"bgcolor\":\"white\",\"radialaxis\":{\"gridcolor\":\"#EBF0F8\",\"linecolor\":\"#EBF0F8\",\"ticks\":\"\"}},\"scene\":{\"xaxis\":{\"backgroundcolor\":\"white\",\"gridcolor\":\"#DFE8F3\",\"gridwidth\":2,\"linecolor\":\"#EBF0F8\",\"showbackground\":true,\"ticks\":\"\",\"zerolinecolor\":\"#EBF0F8\"},\"yaxis\":{\"backgroundcolor\":\"white\",\"gridcolor\":\"#DFE8F3\",\"gridwidth\":2,\"linecolor\":\"#EBF0F8\",\"showbackground\":true,\"ticks\":\"\",\"zerolinecolor\":\"#EBF0F8\"},\"zaxis\":{\"backgroundcolor\":\"white\",\"gridcolor\":\"#DFE8F3\",\"gridwidth\":2,\"linecolor\":\"#EBF0F8\",\"showbackground\":true,\"ticks\":\"\",\"zerolinecolor\":\"#EBF0F8\"}},\"shapedefaults\":{\"line\":{\"color\":\"#2a3f5f\"}},\"ternary\":{\"aaxis\":{\"gridcolor\":\"#DFE8F3\",\"linecolor\":\"#A2B1C6\",\"ticks\":\"\"},\"baxis\":{\"gridcolor\":\"#DFE8F3\",\"linecolor\":\"#A2B1C6\",\"ticks\":\"\"},\"bgcolor\":\"white\",\"caxis\":{\"gridcolor\":\"#DFE8F3\",\"linecolor\":\"#A2B1C6\",\"ticks\":\"\"}},\"title\":{\"x\":0.05},\"xaxis\":{\"automargin\":true,\"gridcolor\":\"#EBF0F8\",\"linecolor\":\"#EBF0F8\",\"ticks\":\"\",\"title\":{\"standoff\":15},\"zerolinecolor\":\"#EBF0F8\",\"zerolinewidth\":2},\"yaxis\":{\"automargin\":true,\"gridcolor\":\"#EBF0F8\",\"linecolor\":\"#EBF0F8\",\"ticks\":\"\",\"title\":{\"standoff\":15},\"zerolinecolor\":\"#EBF0F8\",\"zerolinewidth\":2}}},\"title\":{\"text\":\"Model Performance: Actual vs. Predicted Revenue on Test Set\"},\"xaxis\":{\"title\":{\"text\":\"Week\"}},\"yaxis\":{\"title\":{\"text\":\"Weekly Revenue\"}},\"legend\":{\"title\":{\"text\":\"Legend\"}}},                        {\"responsive\": true}                    ).then(function(){\n",
              "                            \n",
              "var gd = document.getElementById('b86b5603-43c2-43ec-bf4e-2bb59f1cc399');\n",
              "var x = new MutationObserver(function (mutations, observer) {{\n",
              "        var display = window.getComputedStyle(gd).display;\n",
              "        if (!display || display === 'none') {{\n",
              "            console.log([gd, 'removed!']);\n",
              "            Plotly.purge(gd);\n",
              "            observer.disconnect();\n",
              "        }}\n",
              "}});\n",
              "\n",
              "// Listen for the removal of the full notebook cells\n",
              "var notebookContainer = gd.closest('#notebook-container');\n",
              "if (notebookContainer) {{\n",
              "    x.observe(notebookContainer, {childList: true});\n",
              "}}\n",
              "\n",
              "// Listen for the clearing of the current output cell\n",
              "var outputEl = gd.closest('.output');\n",
              "if (outputEl) {{\n",
              "    x.observe(outputEl, {childList: true});\n",
              "}}\n",
              "\n",
              "                        })                };                            </script>        </div>\n",
              "</body>\n",
              "</html>"
            ]
          },
          "metadata": {}
        }
      ]
    }
  ]
}